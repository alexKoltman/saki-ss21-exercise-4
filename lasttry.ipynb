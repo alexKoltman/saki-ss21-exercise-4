{
 "cells": [
  {
   "cell_type": "markdown",
   "id": "bfe98ea5",
   "metadata": {},
   "source": [
    "# SAKI Ex04\n",
    "## import libs and load training/test files"
   ]
  },
  {
   "cell_type": "code",
   "execution_count": 45,
   "id": "6126a48c",
   "metadata": {},
   "outputs": [],
   "source": [
    "import mdptoolbox\n",
    "import pandas as pd\n",
    "import itertools as it\n",
    "import numpy as np\n",
    "from scipy import sparse\n",
    "import enum \n",
    "\n",
    "test_data = pd.read_csv('Exercise 4 - Reinforcement Learning Data - warehouseorder.txt', sep='\\t', header=None)\n",
    "test_data.columns = [\"action\",\"color\"]\n",
    "\n",
    "training_data = pd.read_csv('Exercise 4 - Reinforcement Learning Data - warehousetraining.txt', header=None)\n",
    "training_data.columns = [\"training\"]"
   ]
  },
  {
   "cell_type": "markdown",
   "id": "b52d264e",
   "metadata": {},
   "source": [
    "## Enum types"
   ]
  },
  {
   "cell_type": "code",
   "execution_count": 46,
   "id": "9a5aadb4",
   "metadata": {},
   "outputs": [],
   "source": [
    "class Color(enum.Enum): \n",
    "    red = 1\n",
    "    white = 2\n",
    "    blue = 3"
   ]
  },
  {
   "cell_type": "markdown",
   "id": "f6cff8c4",
   "metadata": {},
   "source": [
    "## Enviroment"
   ]
  },
  {
   "cell_type": "code",
   "execution_count": 47,
   "id": "5b310043",
   "metadata": {},
   "outputs": [],
   "source": [
    "def get_warehouse(num_moves, warehouse_description, num_fields):\n",
    "    warehouse = []\n",
    "    for move in range(num_moves):\n",
    "        for warehouse_state in it.product(warehouse_description, repeat=num_fields):\n",
    "            states = []\n",
    "            state_string = []\n",
    "            for i in range(num_fields):\n",
    "                state_string.append('state'+str(i))\n",
    "                states.append(warehouse_state[i])\n",
    "\n",
    "            state_string.append('NextMove')\n",
    "            states.append(move)\n",
    "            warehouse.append(states)\n",
    "\n",
    "    return pd.DataFrame(warehouse, columns=state_string)"
   ]
  },
  {
   "cell_type": "markdown",
   "id": "2636728d",
   "metadata": {},
   "source": [
    "## Transition Probability Matrix "
   ]
  },
  {
   "cell_type": "code",
   "execution_count": 48,
   "id": "ce69dffe",
   "metadata": {},
   "outputs": [],
   "source": [
    "def get_probs_matrix(num_actions, num_moves, warehouse_desc, num_fields, block_size):\n",
    "    move_probs = (training_data.training.value_counts() / training_data.shape[0])\n",
    "    move_probs = move_probs.round(3)\n",
    "    \n",
    "    TPM = []       \n",
    "    for action in range(num_actions):\n",
    "        TPM.append(np.zeros((num_state, num_state),dtype=np.float16))\n",
    "        cur_i = 0\n",
    "        for instr in range(num_moves):\n",
    "            for warehouse_state in it.product(warehouse_desc, repeat=num_fields):\n",
    "                for move in range(num_moves):\n",
    "                    state_index = (cur_i % block_size) + (block_size * move)\n",
    "                    tmpa = (cur_i % block_size) + (block_size * move)\n",
    "                    tmpb = num_color**(num_actions - action - 1)\n",
    "                    \n",
    "                    if (instr in range(3)):\n",
    "                        if(warehouse_state[action] != 0):\n",
    "                            TPM[action][cur_i][state_index] = move_probs[move]\n",
    "                        else:\n",
    "                            if(instr == 0):\n",
    "                                TPM[action][cur_i][tmpa + tmpb] = move_probs[move]\n",
    "                            elif(instr == 1):\n",
    "                                TPM[action][cur_i][tmpa + tmpb * 2] = move_probs[move]\n",
    "                            elif(instr == 2):\n",
    "                                TPM[action][cur_i][tmpa + tmpb * 3] = move_probs[move]\n",
    "                    else:\n",
    "                        if(warehouse_state[action] == 0):\n",
    "                            TPM[action][cur_i][state_index] = move_probs[move]\n",
    "                        else:\n",
    "                            if(instr == 5):\n",
    "                                TPM[action][cur_i][tmpa - tmpb * 3] = move_probs[move] \n",
    "                            elif(instr == 4):\n",
    "                                TPM[action][cur_i][tmpa - tmpb * 2] = move_probs[move]\n",
    "                            elif(instr == 3):\n",
    "                                TPM[action][cur_i][tmpa - tmpb] = move_probs[move]\n",
    "                           \n",
    "                cur_i += 1\n",
    "        TPM[action] = sparse.csr_matrix(TPM[action])\n",
    "    return TPM"
   ]
  },
  {
   "cell_type": "markdown",
   "id": "c2fba976",
   "metadata": {},
   "source": [
    "## Reward"
   ]
  },
  {
   "cell_type": "code",
   "execution_count": 49,
   "id": "33982a1d",
   "metadata": {},
   "outputs": [],
   "source": [
    "def get_adder(action):\n",
    "    if  (action == 0): adder = 1000;\n",
    "    elif(action == 1): adder = 600;\n",
    "    elif(action == 2): adder = 300;\n",
    "    elif(action == 3): adder = 100;\n",
    "    elif(action == 4): adder = 50;\n",
    "    elif(action == 5): adder = 25;\n",
    "    \n",
    "    return action"
   ]
  },
  {
   "cell_type": "code",
   "execution_count": 50,
   "id": "0fd700a6",
   "metadata": {},
   "outputs": [],
   "source": [
    "def get_reward(num_actions, num_state, wh):\n",
    "    reward = []\n",
    "    for action in range(num_actions):\n",
    "        reward.append(np.zeros((num_state, )))\n",
    "        for index, warehouse in wh.iterrows():\n",
    "            try:\n",
    "                if(warehouse.NextMove in range(3) and warehouse[action] == 0):\n",
    "                    adder = get_adder(action)\n",
    "                elif warehouse.NextMove in range(3, 6) and (warehouse[action] == (warehouse.NextMove - 2)):\n",
    "                    adder = get_adder(action) + 50\n",
    "                else:\n",
    "                    if warehouse.NextMove in range(3):\n",
    "                         adder = 20\n",
    "                    else:\n",
    "                        adder = -10\n",
    "                reward[-1][index] = adder\n",
    "            except:\n",
    "                print(\"An exception occurred\") \n",
    "                print(warehouse.NextMove)\n",
    "\n",
    "    reward = np.asarray(reward)\n",
    "    reward = reward.transpose()\n",
    "    return reward"
   ]
  },
  {
   "cell_type": "markdown",
   "id": "ebb392dd",
   "metadata": {},
   "source": [
    "## global functions"
   ]
  },
  {
   "cell_type": "code",
   "execution_count": 51,
   "id": "40fea1a3",
   "metadata": {},
   "outputs": [],
   "source": [
    "def getInstrNumber(inpt):\n",
    "    if(inpt == 'store red'):\n",
    "        value = 0\n",
    "    elif(inpt == 'store white'):\n",
    "        value = 1\n",
    "    elif(inpt == 'store blue'):\n",
    "        value = 2\n",
    "    elif(inpt == 'restore red'):\n",
    "        value = 3\n",
    "    elif(inpt == 'restore white'):\n",
    "        value = 4\n",
    "    elif(inpt == 'restore blue'):\n",
    "        value = 5  \n",
    "    return value\n",
    "    \n",
    "def getColorNumber(color):\n",
    "    if(color == 'red'):\n",
    "         value = 1\n",
    "    elif(color == 'white'):\n",
    "        value = 2\n",
    "    elif(color == 'blue'):\n",
    "        value = 3 \n",
    "    return value\n",
    "\n",
    "def getWarehouseIndex(ground, instr, warehouse):\n",
    "    return warehouse[(warehouse['state0'] == ground[0]) &  (warehouse['state1'] == ground[1]) &\n",
    "                    (warehouse['state2'] == ground[2]) & (warehouse['state3'] == ground[3]) &\n",
    "                    (warehouse['state4'] == ground[4]) &  (warehouse['state5'] == ground[5]) &\n",
    "                    (warehouse['NextMove'] == getInstrNumber(instr))].index[0]\n",
    "\n",
    "def getLength(index):\n",
    "    length = 0\n",
    "    if(index == 0):\n",
    "        length = 2\n",
    "    elif(index == 1):\n",
    "        length = 4\n",
    "    elif(index == 2):\n",
    "        length = 4\n",
    "    elif(index == 3):\n",
    "        length = 6\n",
    "    elif(index == 4):\n",
    "        length = 6\n",
    "    elif(index == 5):\n",
    "        length = 8\n",
    "\n",
    "    return length"
   ]
  },
  {
   "cell_type": "markdown",
   "id": "949ecb6d",
   "metadata": {},
   "source": [
    "## save steps in evaluation.txt file"
   ]
  },
  {
   "cell_type": "code",
   "execution_count": 52,
   "id": "29f77741",
   "metadata": {},
   "outputs": [],
   "source": [
    "outputeval = open('evaluate.txt', 'w') \n",
    "def store_restore_mlp_policy(policy, data, warehouse_policyiter):\n",
    "    print(str(counter) + \" PolicyIteration: \\t\" + str(warehouse_policyiter) + (data.action + ' ' + data.color), file = outputeval)\n",
    "    #print(\"PolicyIteration\")\n",
    "    index = getWarehouseIndex(warehouse_policyiter, (data.action + ' ' + data.color), warehouse)\n",
    "    if(data.action == 'store'):\n",
    "        warehouse_policyiter[policy.policy[index]] = getColorNumber(data.color)\n",
    "    elif(data.action == 'restore'):\n",
    "        warehouse_policyiter[policy.policy[index]] = 0\n",
    "        \n",
    "    return getLength(policy.policy[index])\n",
    "\n",
    "def store_restore_mlp_value(policy, data, warehouse_valueiter):\n",
    "    #print(\"ValueIteration\")\n",
    "    print(str(counter) + \" ValueIteration: \\t\" + str(warehouse_valueiter) + (data.action + ' ' + data.color), file = outputeval)\n",
    "    index = getWarehouseIndex(warehouse_valueiter, (data.action + ' ' + data.color), warehouse)\n",
    "    if(data.action == 'store'):\n",
    "        warehouse_valueiter[policy.policy[index]] = getColorNumber(data.color)\n",
    "    elif(data.action == 'restore'):\n",
    "        warehouse_valueiter[policy.policy[index]] = 0\n",
    "        \n",
    "    return getLength(policy.policy[index])\n"
   ]
  },
  {
   "cell_type": "markdown",
   "id": "3b3a633c",
   "metadata": {},
   "source": [
    "## caculate steps for each algorithms\n",
    "### Test Data"
   ]
  },
  {
   "cell_type": "code",
   "execution_count": 53,
   "id": "65c02401",
   "metadata": {},
   "outputs": [
    {
     "name": "stdout",
     "output_type": "stream",
     "text": [
      "MLP value iteration:338\n",
      "MLP policy iteration:338\n"
     ]
    }
   ],
   "source": [
    "#variables\n",
    "num_fields = 6 \n",
    "num_color = 4 \n",
    "num_moves = 6\n",
    "num_actions = num_fields\n",
    "block_size = num_color ** num_fields\n",
    "\n",
    "num_state = num_color ** num_fields * num_moves\n",
    "warehouse_description=[0,1,2,3]\n",
    "\n",
    "warehouse_policy_interation=np.zeros(num_fields)\n",
    "warehouse_value_iteration=np.zeros(num_fields)\n",
    "\n",
    "length_mlp_value = 0\n",
    "length_mlp_policy = 0\n",
    "counter = 0\n",
    "\n",
    "# training\n",
    "warehouse = get_warehouse(num_moves, warehouse_description, num_fields)\n",
    "P = get_probs_matrix(num_actions, num_moves, warehouse_description, num_fields, block_size)\n",
    "R = get_reward(num_actions, num_state,warehouse)\n",
    "mdpresultPolicy = mdptoolbox.mdp.PolicyIteration(P, R, 0.9, max_iter=100)\n",
    "mdpresultValue = mdptoolbox.mdp.ValueIteration(P, R, 0.9, max_iter=100)\n",
    "\n",
    "mdpresultPolicy.run()\n",
    "mdpresultValue.run()\n",
    "\n",
    "# evaluation\n",
    "for data in test_data.itertuples():\n",
    "    length_mlp_value += store_restore_mlp_value(mdpresultValue, data, warehouse_value_iteration)\n",
    "    length_mlp_policy += store_restore_mlp_policy(mdpresultPolicy, data, warehouse_policy_interation)\n",
    "    print('', file = outputeval)\n",
    "    counter += 1\n",
    "\n",
    "print(\"MLP value iteration:\" + str(length_mlp_value))\n",
    "print(\"MLP policy iteration:\" + str(length_mlp_policy))\n",
    "outputeval.close()"
   ]
  },
  {
   "cell_type": "code",
   "execution_count": null,
   "id": "9d3470ad",
   "metadata": {},
   "outputs": [],
   "source": []
  },
  {
   "cell_type": "code",
   "execution_count": null,
   "id": "6b1f3bdb",
   "metadata": {},
   "outputs": [],
   "source": []
  },
  {
   "cell_type": "code",
   "execution_count": null,
   "id": "8ee1a2c1",
   "metadata": {},
   "outputs": [],
   "source": []
  }
 ],
 "metadata": {
  "kernelspec": {
   "display_name": "Python 3",
   "language": "python",
   "name": "python3"
  },
  "language_info": {
   "codemirror_mode": {
    "name": "ipython",
    "version": 3
   },
   "file_extension": ".py",
   "mimetype": "text/x-python",
   "name": "python",
   "nbconvert_exporter": "python",
   "pygments_lexer": "ipython3",
   "version": "3.8.8"
  }
 },
 "nbformat": 4,
 "nbformat_minor": 5
}
